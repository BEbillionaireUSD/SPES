{
 "cells": [
  {
   "cell_type": "code",
   "execution_count": 3,
   "id": "c36df411",
   "metadata": {},
   "outputs": [],
   "source": [
    "import pandas as pd\n",
    "import numpy as np\n",
    "import os\n",
    "import json\n",
    "from collections import defaultdict\n",
    "import matplotlib.pyplot as plt\n",
    "from tqdm import tqdm\n",
    "from scipy import stats\n",
    "\n",
    "file_name = \"../raw_data/azurefunctions-dataset2019/invocations_per_function_md.anon.d\"\n",
    "train_file_names, test_file_names = [file_name+\"%02d.csv\" % (i) for i in range(1, 13)], [file_name+\"13.csv\", file_name+\"14.csv\"]"
   ]
  },
  {
   "cell_type": "code",
   "execution_count": 4,
   "id": "9ce08b94",
   "metadata": {},
   "outputs": [
    {
     "data": {
      "text/plain": [
       "(71616, 39388)"
      ]
     },
     "execution_count": 4,
     "metadata": {},
     "output_type": "execute_result"
    }
   ],
   "source": [
    "train_func_arrcount = {}\n",
    "train_func_owner_app = {}\n",
    "train_owner_func = defaultdict(set)\n",
    "train_app_func = defaultdict(set)\n",
    "\n",
    "func_trigger = defaultdict(set)\n",
    "\n",
    "for i, file in enumerate(train_file_names):\n",
    "    df = pd.read_csv(file)\n",
    "    \n",
    "    for _, row in df.iterrows():\n",
    "        func = row[\"HashFunction\"]\n",
    "        train_func_owner_app[func] = row[\"HashOwner\"]+'\\t'+row[\"HashApp\"]\n",
    "        train_owner_func[row[\"HashOwner\"]].add(func)\n",
    "        train_app_func[row[\"HashApp\"]].add(func)\n",
    "        func_trigger[func].add(row[\"Trigger\"])\n",
    "        \n",
    "        if func not in train_func_arrcount:\n",
    "            train_func_arrcount[func] = [0]*12*1440\n",
    "        train_func_arrcount[func][i*1440: (i+1)*1440] = list(row[4:].values)\n",
    "    del df\n",
    "\n",
    "test_func_arrcount = {}\n",
    "test_func_owner_app = {}\n",
    "test_owner_func = defaultdict(set)\n",
    "test_app_func = defaultdict(set)\n",
    "\n",
    "for i, file in enumerate(test_file_names):\n",
    "    df = pd.read_csv(file)\n",
    "    \n",
    "    for _, row in df.iterrows():\n",
    "        func = row[\"HashFunction\"]\n",
    "        test_func_owner_app[func] = row[\"HashOwner\"]+'\\t'+row[\"HashApp\"]\n",
    "        test_owner_func[row[\"HashOwner\"]].add(func)\n",
    "        test_app_func[row[\"HashApp\"]].add(func)\n",
    "        func_trigger[func].add(row[\"Trigger\"])\n",
    "        \n",
    "        if func not in test_func_arrcount:\n",
    "            test_func_arrcount[func] = [0]*2*1440    \n",
    "        test_func_arrcount[func][i*1440: (i+1)*1440] = list(row[4:].values)\n",
    "    del df\n",
    "    \n",
    "train_NUM, test_NUM = len(train_func_arrcount), len(test_func_arrcount)\n",
    "train_NUM, test_NUM"
   ]
  },
  {
   "cell_type": "code",
   "execution_count": 5,
   "id": "40ca3162",
   "metadata": {},
   "outputs": [],
   "source": [
    "class func_state:\n",
    "    def __init__(self, _type = 0, forget = 0):\n",
    "        self.type = _type\n",
    "        self.forget = forget\n",
    "        \n",
    "        self.state = False # loaded or not\n",
    "        self.load_time = None \n",
    "        self.wait_time = None \n",
    "        self.last_call = None\n",
    "        self.pre_call_start = None # start of the last calling series\n",
    "        \n",
    "        self.idle_info = {} \n",
    "        self.invok_info = {}\n",
    "        \n",
    "        self.pred_value = []\n",
    "        self.next_invok_start = []\n",
    "        \n",
    "        self.adp_wait = []\n",
    "    \n",
    "    def load(self, load_time):\n",
    "        self.state = True\n",
    "        self.load_time = load_time\n",
    "    \n",
    "    def cal_lasting(self, cur_time):\n",
    "        if not self.state:\n",
    "            return 0\n",
    "        return cur_time - load_time + 1\n",
    "    \n",
    "    def unload(self):\n",
    "        self.state = False\n",
    "        self.load_time = None\n",
    "    \n",
    "    def cal_wait(self):\n",
    "        if self.wait_time is None:\n",
    "            self.wait_time = 0\n",
    "        self.wait_time += 1\n",
    "    \n",
    "    def reset(self, pred=False):\n",
    "        self.unload()\n",
    "        self.wait_time = None \n",
    "        self.last_call = None\n",
    "        self.pre_call_start = None\n",
    "        \n",
    "        self.adp_wait = []\n",
    "        \n",
    "        if pred:\n",
    "            self.next_invok_start = []\n",
    "\n",
    "func_class = {}\n",
    "for func in train_func_arrcount:\n",
    "    func_class[func] = func_state()"
   ]
  },
  {
   "cell_type": "code",
   "execution_count": 6,
   "id": "ba4d874f",
   "metadata": {},
   "outputs": [],
   "source": [
    "FILL_ZERO_FLAG = True\n",
    "shown_func_num = 1000\n",
    "UNKNOWN, WARM, REGULAR, APPRO_REGULAR, DENSE, SUCCESSIVE, PLUSED, POSSIBLE, CORR, NEW_POSS = 0, 1, 2, 3, 4, 5, 6, 7, 8, 9 #Diviable? Active?\n",
    "TYPE_NUM = 10"
   ]
  },
  {
   "cell_type": "markdown",
   "id": "d3fc5d19",
   "metadata": {},
   "source": [
    "# Well-known Function Categorization"
   ]
  },
  {
   "cell_type": "code",
   "execution_count": 7,
   "id": "e941399e",
   "metadata": {},
   "outputs": [],
   "source": [
    "def conj_seq_lst(lst, count_invok=False, threshold=1):\n",
    "    seq_lenth_lst = []\n",
    "    pre_pos = -1\n",
    "    for i, e in enumerate(lst):\n",
    "        if not (bool(e) ^ count_invok):\n",
    "            if pre_pos < 0:\n",
    "                pre_pos = i\n",
    "            if i == len(lst)-1 and i+1-pre_pos >= threshold:\n",
    "                seq_lenth_lst.append(i+1-pre_pos)\n",
    "        else:\n",
    "            if pre_pos>=0 and i-pre_pos >= threshold:\n",
    "                seq_lenth_lst.append(i-pre_pos)\n",
    "            pre_pos = -1\n",
    "    return seq_lenth_lst"
   ]
  },
  {
   "cell_type": "code",
   "execution_count": 8,
   "id": "2b19d92d",
   "metadata": {},
   "outputs": [],
   "source": [
    "def merge(lst):\n",
    "    unique, counts = np.unique(lst, return_counts=True)\n",
    "    mode = unique[np.argmax(counts)]\n",
    "    if mode < 500: return lst\n",
    "    if max(counts) < len(counts) / 2: return lst\n",
    "    \n",
    "    used = [False] * len(lst)\n",
    "    new_lst = []\n",
    "\n",
    "    for i in range(0, len(lst)):\n",
    "        if lst[i] <= mode*0.25:\n",
    "            continue\n",
    "        else:\n",
    "            cur = lst[i]\n",
    "            for k in range(1, i+1):\n",
    "                cur_idx = max(0, i-k)\n",
    "                if lst[cur_idx] >= mode * 0.75: break\n",
    "                if cur + lst[cur_idx] <= mode and lst[cur_idx] <= mode*0.25 and not used[cur_idx]:\n",
    "                    used[cur_idx] = True\n",
    "                    cur += lst[cur_idx]\n",
    "            for k in range(1, len(lst)-i):\n",
    "                cur_idx = min(len(lst)-1, i+k)\n",
    "                if lst[cur_idx] >= mode * 0.75: break\n",
    "                if cur + lst[cur_idx] <= mode and lst[cur_idx] <= mode*0.25 and not used[cur_idx]:\n",
    "                    used[cur_idx] = True\n",
    "                    cur += lst[cur_idx]\n",
    "        new_lst.append(cur)\n",
    "    \n",
    "    if sum(used) / len(used) > 0.3:\n",
    "        return lst\n",
    "    \n",
    "    return new_lst"
   ]
  },
  {
   "cell_type": "markdown",
   "id": "4c917137",
   "metadata": {},
   "source": [
    "### Always warm"
   ]
  },
  {
   "cell_type": "code",
   "execution_count": 9,
   "id": "04d8666d",
   "metadata": {},
   "outputs": [
    {
     "name": "stderr",
     "output_type": "stream",
     "text": [
      " 99%|███████████████████████████████████▋| 71000/71616 [01:27<00:00, 815.97it/s]\n"
     ]
    },
    {
     "data": {
      "text/plain": [
       "(1119, 720)"
      ]
     },
     "execution_count": 9,
     "metadata": {},
     "output_type": "execute_result"
    }
   ],
   "source": [
    "always_num = 0\n",
    "almost_num = 0\n",
    "\n",
    "c = 0\n",
    "with tqdm(total=train_NUM) as pbar:\n",
    "    for func, arrcount in train_func_arrcount.items():\n",
    "        c += 1\n",
    "        if 0 not in arrcount:\n",
    "            func_class[func].type = WARM\n",
    "            always_num += 1\n",
    "        \n",
    "        elif np.count_nonzero(np.array(arrcount) == 0) < 0.001 * len(arrcount):\n",
    "            func_class[func].type = WARM\n",
    "            almost_num += 1\n",
    "        \n",
    "        if c % shown_func_num == 0:\n",
    "            pbar.update(shown_func_num)\n",
    "\n",
    "warm_num = almost_num + always_num\n",
    "almost_num, always_num"
   ]
  },
  {
   "cell_type": "markdown",
   "id": "8ced72c3",
   "metadata": {},
   "source": [
    "### Regular"
   ]
  },
  {
   "cell_type": "code",
   "execution_count": 10,
   "id": "c4b3952a",
   "metadata": {},
   "outputs": [
    {
     "name": "stderr",
     "output_type": "stream",
     "text": [
      " 99%|███████████████████████████████████▋| 71000/71616 [07:05<00:03, 167.03it/s]\n"
     ]
    },
    {
     "data": {
      "text/plain": [
       "(16193, 14809, 1384, 350)"
      ]
     },
     "execution_count": 10,
     "metadata": {},
     "output_type": "execute_result"
    }
   ],
   "source": [
    "SEQ_NUM_BOUND = 3 #Too infrequently invoked functions should not be categorized to this type.\n",
    "\n",
    "regu1_num, regu2_num = 0, 0 \n",
    "merge_num = 0\n",
    "\n",
    "c = 0\n",
    "with tqdm(total=train_NUM) as pbar:\n",
    "    for func, arrcount in train_func_arrcount.items():\n",
    "        c += 1\n",
    "        if c % shown_func_num == 0:\n",
    "            pbar.update(shown_func_num)\n",
    "            \n",
    "        if func_class[func].type >= REGULAR: \n",
    "            func_class[func].type = 0\n",
    "        \n",
    "        if func_class[func].type != 0: continue\n",
    "            \n",
    "        non_invok = conj_seq_lst(arrcount)\n",
    "        invok = conj_seq_lst(arrcount, count_invok=True)\n",
    "        \n",
    "        if len(invok) >= SEQ_NUM_BOUND and len(non_invok) > 0:\n",
    "            unique, counts = np.unique(non_invok, return_counts=True)\n",
    "            mode = unique[np.argmax(counts)]\n",
    "        \n",
    "            if mode - non_invok[0] > 2:\n",
    "                if arrcount[-1] > 0:\n",
    "                    non_invok = non_invok[1:]\n",
    "                else:\n",
    "                    non_invok = non_invok[1:-1]\n",
    "            \n",
    "            if len(non_invok) > SEQ_NUM_BOUND:\n",
    "                if np.percentile(non_invok, 95) - np.percentile(non_invok, 5) < 1:\n",
    "                    func_class[func].type = REGULAR\n",
    "                    regu1_num += 1\n",
    "                elif np.std(non_invok) / np.mean(non_invok) <= 0.01:\n",
    "                    func_class[func].type = REGULAR\n",
    "                    regu2_num += 1\n",
    "                \n",
    "            ##slacking\n",
    "            if FILL_ZERO_FLAG and func_class[func].type == 0:\n",
    "                non_invok = merge(non_invok)\n",
    "                \n",
    "                if np.percentile(non_invok, 95) - np.percentile(non_invok, 5) < 1:\n",
    "                    func_class[func].type = REGULAR\n",
    "                    regu1_num += 1\n",
    "                elif np.std(non_invok) / np.mean(non_invok) <= 0.01:\n",
    "                    func_class[func].type = REGULAR\n",
    "                    regu2_num += 1\n",
    "                \n",
    "                merge_num += (func_class[func].type == REGULAR)\n",
    "\n",
    "        \n",
    "regular_num = regu1_num + regu2_num\n",
    "regular_num, regu1_num, regu2_num, merge_num"
   ]
  },
  {
   "cell_type": "markdown",
   "id": "f031bd53",
   "metadata": {},
   "source": [
    "### Appro Regular"
   ]
  },
  {
   "cell_type": "code",
   "execution_count": 11,
   "id": "dfbccbf6",
   "metadata": {},
   "outputs": [
    {
     "name": "stderr",
     "output_type": "stream",
     "text": [
      " 99%|███████████████████████████████████▋| 71000/71616 [02:54<00:01, 406.57it/s]\n"
     ]
    },
    {
     "data": {
      "text/plain": [
       "6242"
      ]
     },
     "execution_count": 11,
     "metadata": {},
     "output_type": "execute_result"
    }
   ],
   "source": [
    "IDLE_NUM_MAX = 3 #Consider the first n modes\n",
    "IDLE_PERCEN = 0.9\n",
    "\n",
    "appro_num = 0\n",
    "\n",
    "c = 0\n",
    "with tqdm(total=train_NUM) as pbar:\n",
    "    for func, arrcount in train_func_arrcount.items():\n",
    "        c += 1\n",
    "        if c % shown_func_num == 0:\n",
    "            pbar.update(shown_func_num)\n",
    "\n",
    "        if func_class[func].type >= APPRO_REGULAR:\n",
    "            func_class[func].type = 0\n",
    "        \n",
    "        if func_class[func].type == 0:\n",
    "                \n",
    "            non_invok = conj_seq_lst(arrcount)\n",
    "            if len(non_invok) < SEQ_NUM_BOUND: continue\n",
    "            \n",
    "            non_invok_unique, non_invok_counts = np.unique(non_invok, return_counts=True)\n",
    "            non_mode_max_index = np.argsort(-non_invok_counts)[:IDLE_NUM_MAX]\n",
    "            \n",
    "            if max(non_invok_counts) > 1:#If all WT values only appear once, it's meaningless.\n",
    "                if sum(non_invok_counts[non_mode_max_index]) >= sum(non_invok_counts) * IDLE_PERCEN:\n",
    "                    appro_num += 1\n",
    "                    func_class[func].type = APPRO_REGULAR\n",
    "                    \n",
    "appro_num"
   ]
  },
  {
   "cell_type": "markdown",
   "id": "d68a66fb",
   "metadata": {},
   "source": [
    "### Dense"
   ]
  },
  {
   "cell_type": "code",
   "execution_count": 12,
   "id": "c463fa80",
   "metadata": {},
   "outputs": [
    {
     "name": "stderr",
     "output_type": "stream",
     "text": [
      " 99%|███████████████████████████████████▋| 71000/71616 [02:36<00:01, 452.51it/s]\n"
     ]
    },
    {
     "data": {
      "text/plain": [
       "405"
      ]
     },
     "execution_count": 12,
     "metadata": {},
     "output_type": "execute_result"
    }
   ],
   "source": [
    "DENSE_UPPER_BOUND = 5 #the small constant\n",
    "DENSE_PERCEN = 90\n",
    "\n",
    "dense_num = 0\n",
    "\n",
    "c = 0\n",
    "with tqdm(total=train_NUM) as pbar:\n",
    "    for func, arrcount in train_func_arrcount.items():\n",
    "        c += 1\n",
    "        if func_class[func].type >= DENSE:\n",
    "            func_class[func].type = 0\n",
    "        \n",
    "        if func_class[func].type == 0:\n",
    "            non_invok = conj_seq_lst(arrcount)\n",
    "            if np.percentile(non_invok, DENSE_PERCEN) < DENSE_UPPER_BOUND:\n",
    "                dense_num += 1\n",
    "                func_class[func].type = DENSE\n",
    "        \n",
    "        if c % shown_func_num == 0:\n",
    "            pbar.update(shown_func_num)\n",
    "\n",
    "dense_num  "
   ]
  },
  {
   "cell_type": "markdown",
   "id": "d14bd6e5",
   "metadata": {},
   "source": [
    "### Successive"
   ]
  },
  {
   "cell_type": "code",
   "execution_count": 13,
   "id": "08c8daf3",
   "metadata": {},
   "outputs": [],
   "source": [
    "def cal_AN_seq(lst):\n",
    "    seq_lenth_num = []\n",
    "    pre_pos = -1\n",
    "    for i, e in enumerate(lst):\n",
    "        if bool(e):\n",
    "            if pre_pos < 0:\n",
    "                pre_pos = i\n",
    "            if i == len(lst)-1 and i-pre_pos >= 0:\n",
    "                seq_lenth_num.append(sum(lst[pre_pos:i+1]))\n",
    "        else:\n",
    "            if pre_pos >= 0 and i-pre_pos >= 1:\n",
    "                seq_lenth_num.append(sum(lst[pre_pos:i]))\n",
    "            pre_pos = -1\n",
    "    return seq_lenth_num"
   ]
  },
  {
   "cell_type": "code",
   "execution_count": 14,
   "id": "d8433b90",
   "metadata": {},
   "outputs": [
    {
     "name": "stderr",
     "output_type": "stream",
     "text": [
      " 99%|███████████████████████████████████▋| 71000/71616 [03:11<00:01, 371.52it/s]\n"
     ]
    },
    {
     "data": {
      "text/plain": [
       "1683"
      ]
     },
     "execution_count": 14,
     "metadata": {},
     "output_type": "execute_result"
    }
   ],
   "source": [
    "gamma_1 = 10\n",
    "gamma_2 = 11\n",
    "\n",
    "successive_num = 0\n",
    "\n",
    "c = 0\n",
    "with tqdm(total=train_NUM) as pbar:\n",
    "    for func, arrcount in train_func_arrcount.items():\n",
    "        c += 1\n",
    "        if func_class[func].type >= SUCCESSIVE:\n",
    "            func_class[func].type = 0\n",
    "            \n",
    "        if func_class[func].type == 0:\n",
    "            invok = conj_seq_lst(arrcount, count_invok=True)\n",
    "            invok_seq_num = cal_AN_seq(arrcount)\n",
    "            \n",
    "            if min(invok) >= gamma_1 or min(invok_seq_num) >= gamma_2:\n",
    "                successive_num += 1\n",
    "                func_class[func].type = SUCCESSIVE\n",
    "        \n",
    "        if c % shown_func_num == 0:\n",
    "            pbar.update(shown_func_num)\n",
    "\n",
    "successive_num"
   ]
  },
  {
   "cell_type": "markdown",
   "id": "f9bc3964",
   "metadata": {},
   "source": [
    "## Forgetting"
   ]
  },
  {
   "cell_type": "code",
   "execution_count": 61,
   "id": "fb461aaa",
   "metadata": {},
   "outputs": [],
   "source": [
    "def re_categorzing(arrcount):\n",
    "    #Always warm:\n",
    "    if min(arrcount) > 0: \n",
    "        return WARM, 0\n",
    "    if np.count_nonzero(np.array(arrcount) == 0) < 0.001 * len(arrcount):\n",
    "        return WARM, 0\n",
    "    \n",
    "    invok = conj_seq_lst(arrcount, count_invok=True)\n",
    "    non_invok = conj_seq_lst(arrcount)\n",
    "    \n",
    "    if len(invok) >= SEQ_NUM_BOUND:\n",
    "        non_invok_reg = [i for i in non_invok]\n",
    "        if arrcount[-1] == 0: #no so-called first WT\n",
    "            non_invok_reg = non_invok_reg[:-1]\n",
    "            \n",
    "        if np.percentile(non_invok_reg, 95) - np.percentile(non_invok_reg, 5) < 1:\n",
    "            return REGULAR, 1\n",
    "        if np.std(non_invok_reg) / np.mean(non_invok_reg) <= 0.01:\n",
    "            return REGULAR, 2\n",
    "        \n",
    "        if FILL_ZERO_FLAG:\n",
    "            non_invok_reg = merge(non_invok_reg)\n",
    "            if np.percentile(non_invok_reg, 95) - np.percentile(non_invok_reg, 5) < 1:\n",
    "                return REGULAR, 1\n",
    "            if np.std(non_invok_reg) / np.mean(non_invok_reg) <= 0.01:\n",
    "                return REGULAR, 2\n",
    "    \n",
    "        non_invok_unique, non_invok_counts = np.unique(non_invok, return_counts=True)\n",
    "        non_mode_max_index = np.argsort(-non_invok_counts)[:IDLE_NUM_MAX]\n",
    "\n",
    "        #Appro Regular     \n",
    "        if max(non_invok_counts) > 1 and \\\n",
    "            sum(non_invok_counts[non_mode_max_index]) >= sum(non_invok_counts) * IDLE_PERCEN:\n",
    "            return APPRO_REGULAR, 0\n",
    "    \n",
    "    if np.percentile(non_invok, DENSE_PERCEN) < DENSE_UPPER_BOUND:\n",
    "        return DENSE, 0\n",
    "    \n",
    "    if min(invok) >= gamma_1 or min(cal_AN_seq(arrcount)) > gamma_2:\n",
    "        return SUCCESSIVE, 0\n",
    "    \n",
    "    return UNKNOWN, 0"
   ]
  },
  {
   "cell_type": "code",
   "execution_count": 62,
   "id": "5a0239a6",
   "metadata": {},
   "outputs": [
    {
     "name": "stdout",
     "output_type": "stream",
     "text": [
      "^^^^^ Forgetting day 1 ^^^^^\n"
     ]
    },
    {
     "name": "stderr",
     "output_type": "stream",
     "text": [
      " 99%|███████████████████████████████████▋| 71000/71616 [01:14<00:00, 953.15it/s]\n"
     ]
    },
    {
     "name": "stdout",
     "output_type": "stream",
     "text": [
      "169\n",
      "^^^^^ Forgetting day 2 ^^^^^\n"
     ]
    },
    {
     "name": "stderr",
     "output_type": "stream",
     "text": [
      " 99%|██████████████████████████████████▋| 71000/71616 [00:58<00:00, 1206.83it/s]\n"
     ]
    },
    {
     "name": "stdout",
     "output_type": "stream",
     "text": [
      "171\n",
      "^^^^^ Forgetting day 3 ^^^^^\n"
     ]
    },
    {
     "name": "stderr",
     "output_type": "stream",
     "text": [
      " 99%|██████████████████████████████████▋| 71000/71616 [00:45<00:00, 1559.76it/s]\n"
     ]
    },
    {
     "name": "stdout",
     "output_type": "stream",
     "text": [
      "218\n",
      "^^^^^ Forgetting day 4 ^^^^^\n"
     ]
    },
    {
     "name": "stderr",
     "output_type": "stream",
     "text": [
      " 99%|██████████████████████████████████▋| 71000/71616 [00:32<00:00, 2204.50it/s]\n"
     ]
    },
    {
     "name": "stdout",
     "output_type": "stream",
     "text": [
      "230\n",
      "^^^^^ Forgetting day 5 ^^^^^\n"
     ]
    },
    {
     "name": "stderr",
     "output_type": "stream",
     "text": [
      " 99%|██████████████████████████████████▋| 71000/71616 [00:21<00:00, 3276.35it/s]\n"
     ]
    },
    {
     "name": "stdout",
     "output_type": "stream",
     "text": [
      "269\n",
      "^^^^^ Forgetting day 6 ^^^^^\n"
     ]
    },
    {
     "name": "stderr",
     "output_type": "stream",
     "text": [
      " 99%|██████████████████████████████████▋| 71000/71616 [00:15<00:00, 4438.81it/s]"
     ]
    },
    {
     "name": "stdout",
     "output_type": "stream",
     "text": [
      "3\n",
      "Regular num: 92 80\n"
     ]
    },
    {
     "name": "stderr",
     "output_type": "stream",
     "text": [
      "\n"
     ]
    },
    {
     "data": {
      "text/plain": [
       "(1060, '***', [44194, 1857, 16365, 6722, 459, 2019])"
      ]
     },
     "execution_count": 62,
     "metadata": {},
     "output_type": "execute_result"
    }
   ],
   "source": [
    "DAY = 6\n",
    "change_num_day = [0] * DAY\n",
    "change_num = 0\n",
    "\n",
    "regular_type_num = [0, 0, 0]\n",
    "num_per_type = [0, warm_num, regular_num, appro_num, dense_num, successive_num, 0, 0, 0, 0]\n",
    "\n",
    "for day in range(1, DAY + 1):\n",
    "    print(\"^\"*5, \"Forgetting day\", day, \"^\"*5)\n",
    "    c = 0\n",
    "    with tqdm(total=train_NUM) as pbar:\n",
    "        for func in train_func_arrcount:\n",
    "            c += 1\n",
    "            if c % shown_func_num == 0:\n",
    "                pbar.update(shown_func_num)\n",
    "                \n",
    "            if func_class[func].forget >= day:\n",
    "                func_class[func].forget = 0\n",
    "                func_class[func].type = 0\n",
    "            \n",
    "            if func_class[func].type == 0:\n",
    "                arrcount = train_func_arrcount[func][1440*day: ]\n",
    "\n",
    "                if sum(arrcount) > 0:\n",
    "                    func_class[func].type, regular_type = re_categorzing(arrcount)\n",
    "                    regular_type_num[regular_type] += 1\n",
    "\n",
    "                    if func_class[func].type > 0:\n",
    "                        change_num += 1\n",
    "                        change_num_day[day - 1] += 1\n",
    "                        func_class[func].forget = day\n",
    "                        num_per_type[func_class[func].type] += 1\n",
    "    \n",
    "    print(change_num_day[day-1])\n",
    "\n",
    "print(\"Regular num:\", regular_type_num[1], regular_type_num[2])\n",
    "num_per_type[0] = len(train_func_arrcount) - sum(num_per_type) #Unknown\n",
    "change_num, \"***\", num_per_type[: SUCCESSIVE+1]"
   ]
  },
  {
   "cell_type": "markdown",
   "id": "09f589a2",
   "metadata": {},
   "source": [
    "## Show & Save"
   ]
  },
  {
   "cell_type": "code",
   "execution_count": 66,
   "id": "38d14484",
   "metadata": {},
   "outputs": [
    {
     "name": "stderr",
     "output_type": "stream",
     "text": [
      " 99%|████████████████████████████████▋| 71000/71616 [00:00<00:00, 824448.05it/s]\n"
     ]
    },
    {
     "data": {
      "text/plain": [
       "44194"
      ]
     },
     "execution_count": 66,
     "metadata": {},
     "output_type": "execute_result"
    }
   ],
   "source": [
    "pie_count = [0] * 6\n",
    "before_forget_pie_count = [0] * 6\n",
    "\n",
    "c = 0\n",
    "with tqdm(total=train_NUM) as pbar:\n",
    "    for func, arrcount in train_func_arrcount.items():\n",
    "        c += 1\n",
    "        if func_class[func].type >= PLUSED:\n",
    "            func_class[func].type = 0\n",
    "            \n",
    "        pie_count[func_class[func].type] += 1\n",
    "        \n",
    "        if func_class[func].forget > 0:\n",
    "            before_forget_pie_count[0] += 1\n",
    "        else:\n",
    "            before_forget_pie_count[func_class[func].type] += 1\n",
    "        \n",
    "        if c % shown_func_num == 0:\n",
    "            pbar.update(shown_func_num)\n",
    "\n",
    "pie_count[0]"
   ]
  },
  {
   "cell_type": "code",
   "execution_count": 67,
   "id": "1a3a887f",
   "metadata": {},
   "outputs": [
    {
     "data": {
      "image/png": "[encoded data removed]",
      "text/plain": [
       "<Figure size 1000x400 with 2 Axes>"
      ]
     },
     "metadata": {},
     "output_type": "display_data"
    }
   ],
   "source": [
    "label_lst = ['Unknown','Warm', 'Regular', \"Appro-regular\", \"Dense\", \"Successive\"]\n",
    "color_lst = ['#F5B3A2','#BC90B6','#2A4597','#DDC3C7', '#6A9C79', '#C5563B',\"#F1AB3D\", '#58A0A4','#E5F1E5',\"#FBDEAF\"]\n",
    "\n",
    "\n",
    "fig, (ax1, ax2) = plt.subplots(ncols=2, figsize=(10, 4))\n",
    "plt.subplots_adjust(wspace=1, hspace =0)\n",
    "\n",
    "ax1.pie(np.array(before_forget_pie_count),\n",
    "        labels = label_lst,\n",
    "        colors = color_lst[:6],\n",
    "        #explode = [0, 0.2, 0, 0, 0.7, 0, 0.1],\n",
    "        autopct='%.1f%%',\n",
    "        pctdistance=0.9,\n",
    "       )\n",
    "ax1.set_title('Before forgetting')\n",
    "\n",
    "ax2.pie(np.array(pie_count),\n",
    "        labels = label_lst,\n",
    "        colors = color_lst[:6],\n",
    "        #explode = [0, 0.2, 0, 0, 0.7, 0, 0.1],\n",
    "        autopct='%.1f%%',\n",
    "        pctdistance=0.9,\n",
    "       )\n",
    "ax2.set_title('After forgetting')\n",
    "\n",
    "plt.show()"
   ]
  },
  {
   "cell_type": "code",
   "execution_count": 68,
   "id": "8a57e5c3",
   "metadata": {},
   "outputs": [],
   "source": [
    "#Save categorization\n",
    "import os\n",
    "os.makedirs(\"mid-data\", exist_ok=True)\n",
    "with open(\"mid-data/train_info.txt\", \"w\") as wf:\n",
    "    for func, state in func_class.items():\n",
    "        wf.write(func+'\\t'+str(state.type)+'\\t'+str(state.forget)+'\\n')"
   ]
  },
  {
   "cell_type": "code",
   "execution_count": 69,
   "id": "2f8b53c9",
   "metadata": {},
   "outputs": [],
   "source": [
    "#Save for calculating correlations\n",
    "\n",
    "with open(\"mid-data/cal_corr/to_cal_corr.txt\", \"w\") as wf:\n",
    "    for func, arrcount in train_func_arrcount.items():\n",
    "        wf.write(func+'\\t'+str(func_class[func].forget)+'\\t'+','.join(str(a) for a in arrcount)+'\\n')"
   ]
  },
  {
   "cell_type": "code",
   "execution_count": null,
   "id": "a4a817b6",
   "metadata": {},
   "outputs": [],
   "source": [
    "to_cal_corr_num = 0\n",
    "with open(\"mid-data/cal_corr/unknown_ownerapp_lst.txt\", \"w\") as wf:\n",
    "    for func, state in func_class.items():\n",
    "        if state.type == 0:\n",
    "            [owner, app] = train_func_owner_app[func].split('\\t')\n",
    "            ownerapp_lst = (train_owner_func[owner] | train_app_func[app])\n",
    "            ownerapp_lst.remove(func)\n",
    "            if len(ownerapp_lst) > 0:\n",
    "                to_cal_corr_num += 1\n",
    "                wf.write(func+'\\t'+','.join(list(ownerapp_lst))+'\\n')\n",
    "to_cal_corr_num"
   ]
  },
  {
   "cell_type": "markdown",
   "id": "a8752f7a",
   "metadata": {},
   "source": [
    "## Indeterminte Function Assignment"
   ]
  },
  {
   "cell_type": "code",
   "execution_count": 72,
   "id": "2eea3016",
   "metadata": {},
   "outputs": [],
   "source": [
    "valid_split_DAY = 9\n",
    "func_valid_res = {func: {\"cold\": [20000]*3, \"waste\": [20000]*3} \n",
    "                  for func in train_func_arrcount \n",
    "                  if func_class[func].type >= PLUSED or func_class[func].type == 0\n",
    "                 }"
   ]
  },
  {
   "cell_type": "markdown",
   "id": "179b1254",
   "metadata": {},
   "source": [
    "### Plused"
   ]
  },
  {
   "cell_type": "code",
   "execution_count": 73,
   "id": "e35965c6",
   "metadata": {},
   "outputs": [
    {
     "name": "stderr",
     "output_type": "stream",
     "text": [
      " 99%|██████████████████████████████████▋| 71000/71616 [00:52<00:00, 1362.74it/s]\n"
     ]
    },
    {
     "data": {
      "text/plain": [
       "(13277, 30917)"
      ]
     },
     "execution_count": 73,
     "metadata": {},
     "output_type": "execute_result"
    }
   ],
   "source": [
    "PLUSED_GIVEUP = 3\n",
    "useless_num = 0\n",
    "takein_assign_num = 0\n",
    "\n",
    "c = 0\n",
    "with tqdm(total=train_NUM) as pbar:\n",
    "    for func, arr in train_func_arrcount.items():\n",
    "        c += 1\n",
    "        if c % shown_func_num == 0:\n",
    "            pbar.update(shown_func_num)\n",
    "        \n",
    "        if func_class[func].type >= PLUSED:\n",
    "            func_class[func].type = 0\n",
    "        if func_class[func].type != 0: continue\n",
    "    \n",
    "        valid_arr = arr[1440*valid_split_DAY: ]\n",
    "        waste, used = 0, np.count_nonzero(valid_arr)\n",
    "        cold_num, invok_num = 0, sum(valid_arr)\n",
    "        \n",
    "        if invok_num <= 0: \n",
    "            useless_num += 1\n",
    "            continue\n",
    "        \n",
    "        takein_assign_num += 1\n",
    "        \n",
    "        state = False\n",
    "        for i, cur_invok in enumerate(valid_arr):\n",
    "            if cur_invok > 0:\n",
    "                if not state:\n",
    "                    state = True\n",
    "                    cold_num += 1\n",
    "            elif state:\n",
    "                waste += 1\n",
    "                if sum(valid_arr[max(0, i+1-PLUSED_GIVEUP): i]) == 0:\n",
    "                    state = False\n",
    "            \n",
    "            func_valid_res[func][\"cold\"][0], func_valid_res[func][\"waste\"][0] = cold_num/invok_num, waste/used\n",
    "\n",
    "useless_num, takein_assign_num  "
   ]
  },
  {
   "cell_type": "markdown",
   "id": "3e1e9f02",
   "metadata": {},
   "source": [
    "### Possible"
   ]
  },
  {
   "cell_type": "code",
   "execution_count": 74,
   "id": "72338233",
   "metadata": {},
   "outputs": [
    {
     "name": "stderr",
     "output_type": "stream",
     "text": [
      " 99%|███████████████████████████████████▋| 71000/71616 [03:53<00:02, 303.95it/s]\n"
     ]
    },
    {
     "data": {
      "text/plain": [
       "22148"
      ]
     },
     "execution_count": 74,
     "metadata": {},
     "output_type": "execute_result"
    }
   ],
   "source": [
    "PRE_WARM = 2\n",
    "POSS_GIVEUP = 1\n",
    "DISCRETE_TH = 10\n",
    "\n",
    "takein_poss_num = 0\n",
    "possible = set()\n",
    "\n",
    "c = 0\n",
    "with tqdm(total=train_NUM) as pbar:\n",
    "    for func, arr in train_func_arrcount.items():\n",
    "        c += 1\n",
    "        if c % shown_func_num == 0:\n",
    "            pbar.update(shown_func_num)\n",
    "        \n",
    "        if func_class[func].type >= POSSIBLE:\n",
    "            func_class[func].type = 0\n",
    "            \n",
    "        if func_class[func].type != 0: continue\n",
    "        train_arr, valid_arr = arr[:1440 * valid_split_DAY], arr[1440 * valid_split_DAY:]\n",
    "        \n",
    "        waste, used = 0, np.count_nonzero(valid_arr)\n",
    "        cold_num, invok_num = 0, sum(valid_arr)\n",
    "        \n",
    "        non_invok = conj_seq_lst(arr)\n",
    "        non_invok_unique, non_invok_counts = np.unique(non_invok, return_counts=True)\n",
    "        \n",
    "        if invok_num == 0: \n",
    "            if max(non_invok_counts) >= 2:\n",
    "                possible.add(func)\n",
    "            continue\n",
    "        if max(non_invok_counts) < 2: continue\n",
    "        \n",
    "        takein_poss_num += 1\n",
    "        state = False\n",
    "        ############## Calculate ##############\n",
    "        cut = min(5, sum(np.where(non_invok_counts > 1, 1, 0)))\n",
    "        non_mode_max_index = np.argsort(-non_invok_counts)[:cut]\n",
    "        modes = non_invok_unique[non_mode_max_index]\n",
    "        \n",
    "        if max(modes) - min(modes) <= DISCRETE_TH:\n",
    "            pred_value = [min(modes), max(modes)]\n",
    "            pred_value_discrete = False\n",
    "        else:\n",
    "            pred_value = sorted(list(modes))\n",
    "            pred_value_discrete = True\n",
    "        \n",
    "        ############## Calculate ##############\n",
    "        \n",
    "        \n",
    "        next_invok_start = []\n",
    "        wait_time = 1440 * valid_split_DAY\n",
    "        \n",
    "        ############## Prewarming at time 0 ##############\n",
    "        if np.count_nonzero(train_arr) > 0:\n",
    "            last_call = np.where(np.array(train_arr) > 0)[0][-1] - len(train_arr)\n",
    "            wait_time = non_invok[-1] if train_arr[-1] == 0 else 0\n",
    "            if pred_value_discrete:\n",
    "                next_invok_start = [(last_call + p + 1, last_call + p + 1) for p in pred_value]\n",
    "            else:\n",
    "                next_invok_start = [(last_call + pred_value[0] + 1, last_call + pred_value[1] + 1)]\n",
    "        \n",
    "            if train_arr[-1] > 0: state = True\n",
    "\n",
    "        for (left, right) in next_invok_start:\n",
    "            if left <= PRE_WARM and right >= -PRE_WARM:\n",
    "                state = True\n",
    "                break\n",
    "        ############## Prewarming at time 0 ##############\n",
    "        \n",
    "        \n",
    "        for i, cur_invok in enumerate(valid_arr):\n",
    "            if cur_invok > 0:\n",
    "                if not state:\n",
    "                    state = True\n",
    "                    cold_num += 1\n",
    "                \n",
    "                last_call = i\n",
    "                wait_time = 0\n",
    "                if pred_value_discrete:\n",
    "                    next_invok_start = [(i + p + 1, i + p + 1) for p in pred_value]\n",
    "                else:\n",
    "                    next_invok_start = [(i + pred_value[0] + 1, i + pred_value[1] + 1)]\n",
    "            else:\n",
    "                wait_time += 1\n",
    "                pre_warm_flag = False\n",
    "                for (left, right) in next_invok_start:\n",
    "                    if left <= i + PRE_WARM and right >= i - PRE_WARM:\n",
    "                        pre_warm_flag = True\n",
    "                        break      \n",
    "                if state:\n",
    "                    waste += 1\n",
    "                    if (not pre_warm_flag) and wait_time >= POSS_GIVEUP:\n",
    "                        state = False\n",
    "                elif pre_warm_flag:\n",
    "                    state = True\n",
    "        \n",
    "        func_valid_res[func][\"cold\"][1], func_valid_res[func][\"waste\"][1] = cold_num/invok_num, waste/used\n",
    "\n",
    "takein_poss_num"
   ]
  },
  {
   "cell_type": "markdown",
   "id": "4ff9e305",
   "metadata": {},
   "source": [
    "### Correlated\n",
    "\n",
    "#### Load Connections"
   ]
  },
  {
   "cell_type": "code",
   "execution_count": 123,
   "id": "17b3d489",
   "metadata": {},
   "outputs": [
    {
     "data": {
      "text/plain": [
       "27123"
      ]
     },
     "execution_count": 123,
     "metadata": {},
     "output_type": "execute_result"
    }
   ],
   "source": [
    "import os \n",
    "import json\n",
    "def read_json(filepath):\n",
    "    if os.path.exists(filepath):\n",
    "        assert filepath.endswith('.json')\n",
    "        with open(filepath, 'r') as f:\n",
    "            return json.loads(f.read())\n",
    "    else: \n",
    "        print(\"File path \"+filepath+\" not exists!\")\n",
    "        return\n",
    "\n",
    "train_candi = read_json(\"mid-data/func_candi.json\")\n",
    "    \n",
    "len(train_candi)"
   ]
  },
  {
   "cell_type": "markdown",
   "id": "df56f95a",
   "metadata": {},
   "source": [
    "#### Calculate the predictive values of candidate functions"
   ]
  },
  {
   "cell_type": "code",
   "execution_count": 124,
   "id": "629caa85",
   "metadata": {},
   "outputs": [
    {
     "name": "stderr",
     "output_type": "stream",
     "text": [
      "100%|████████████████████████████████████▊| 27000/27123 [07:04<00:01, 63.64it/s]\n"
     ]
    }
   ],
   "source": [
    "candi_pred_value = defaultdict(list)\n",
    "\n",
    "c = 0\n",
    "with tqdm(total=len(train_candi)) as pbar:\n",
    "    for _, tri_tuple_lst in train_candi.items():\n",
    "        c += 1\n",
    "        if c % (shown_func_num) == 0:\n",
    "            pbar.update(shown_func_num)\n",
    "        \n",
    "        for (candi_func, _, _) in tri_tuple_lst:\n",
    "            if candi_func in candi_pred_value: continue\n",
    "            \n",
    "            arrcount = train_func_arrcount[candi_func][1440*func_class[candi_func].forget:]\n",
    "            non_invok = conj_seq_lst(arrcount)\n",
    "\n",
    "            if func_class[candi_func].type == REGULAR: \n",
    "                candi_pred_value[candi_func] = [np.median(non_invok)]\n",
    "\n",
    "            elif func_class[candi_func].type in [APPRO_REGULAR, DENSE]:\n",
    "                non_invok_unique, non_invok_counts = np.unique(non_invok, return_counts=True)\n",
    "                non_mode_max_index = np.argsort(-non_invok_counts)[: min(5, sum(np.where(non_invok_counts > 1, 1, 0)))]\n",
    "                \n",
    "                if func_class[candi_func].type == APPRO_REGULAR:\n",
    "                    candi_pred_value[candi_func] = non_invok_unique[non_mode_max_index[: min(len(non_mode_max_index), IDLE_NUM_MAX)]].tolist()\n",
    "\n",
    "                elif func_class[candi_func].type == DENSE:\n",
    "                    if len(non_mode_max_index) > 0:\n",
    "                        candi_pred_value[candi_func] = [min(non_invok_unique[non_mode_max_index]), \n",
    "                                                        min(DENSE_UPPER_BOUND, max(non_invok_unique[non_mode_max_index]))]\n",
    "                    else:\n",
    "                        candi_pred_value[candi_func] = [min(non_invok_unique), min(DENSE_UPPER_BOUND, max(non_invok_unique))]       \n"
   ]
  },
  {
   "cell_type": "markdown",
   "id": "e695f288",
   "metadata": {},
   "source": [
    "#### Calculate the last call of candidate functions at each time i"
   ]
  },
  {
   "cell_type": "code",
   "execution_count": 125,
   "id": "14343629",
   "metadata": {},
   "outputs": [
    {
     "name": "stderr",
     "output_type": "stream",
     "text": [
      "100%|███████████████████████████████████▊| 27000/27123 [00:46<00:00, 582.08it/s]\n"
     ]
    }
   ],
   "source": [
    "candi_last_call_dict = {}\n",
    "\n",
    "c = 0\n",
    "with tqdm(total=len(train_candi)) as pbar:\n",
    "    for _, tri_tuple_lst in train_candi.items():\n",
    "        c += 1\n",
    "        if c % (shown_func_num) == 0:\n",
    "            pbar.update(shown_func_num)\n",
    "        \n",
    "        for (candi_func, _, _) in tri_tuple_lst:\n",
    "            if candi_func in candi_last_call_dict: continue\n",
    "            \n",
    "            candi_func_arrcount = train_func_arrcount[candi_func][: 1440 * valid_split_DAY]\n",
    "            if max(candi_func_arrcount) > 0:\n",
    "                last_call = np.where(np.array(candi_func_arrcount) > 0)[0][-1] - len(candi_func_arrcount)\n",
    "            else:\n",
    "                last_call = None\n",
    "            \n",
    "            valid_arr = train_func_arrcount[candi_func][1440 * valid_split_DAY: ]\n",
    "            candi_last_call_dict[candi_func] = [None] * len(valid_arr)\n",
    "            \n",
    "            for i, cur_invok in enumerate(valid_arr):\n",
    "                if cur_invok > 0:\n",
    "                    last_call = i\n",
    "                    candi_last_call_dict[candi_func][i] = i\n",
    "                else:\n",
    "                    candi_last_call_dict[candi_func][i] = last_call"
   ]
  },
  {
   "cell_type": "markdown",
   "id": "6d325419",
   "metadata": {},
   "source": [
    "#### Run correlated validation"
   ]
  },
  {
   "cell_type": "code",
   "execution_count": 126,
   "id": "6ea8123a",
   "metadata": {
    "code_folding": []
   },
   "outputs": [
    {
     "name": "stderr",
     "output_type": "stream",
     "text": [
      "100%|█████████████████████████████████▉| 27100.0/27123 [04:10<00:00, 108.28it/s]\n"
     ]
    },
    {
     "data": {
      "text/plain": [
       "7077"
      ]
     },
     "execution_count": 126,
     "metadata": {},
     "output_type": "execute_result"
    }
   ],
   "source": [
    "CORR_GIVEUP = 1\n",
    "\n",
    "takein_corr_num = 0\n",
    "\n",
    "c = 0\n",
    "with tqdm(total=len(train_candi)) as pbar:\n",
    "    for func, tri_tuple_lst in train_candi.items():\n",
    "        c += 1\n",
    "        if c % (shown_func_num/10) == 0:\n",
    "            pbar.update(shown_func_num/10)\n",
    "        \n",
    "        if func_class[func].type >= CORR:\n",
    "            func_class[func].type = 0\n",
    "            \n",
    "        if func_class[func].type != 0: continue\n",
    "        \n",
    "        train_arr, valid_arr = train_func_arrcount[func][:1440*valid_split_DAY], train_func_arrcount[func][1440*valid_split_DAY:]\n",
    "        waste, used = 0, np.count_nonzero(valid_arr)\n",
    "        cold_num, invok_num = 0, sum(valid_arr)\n",
    "        if invok_num <= 0: continue\n",
    "        \n",
    "        takein_corr_num += 1\n",
    "        \n",
    "        next_invok_start = []\n",
    "        ############## Calculate next_invok_start at time 0 ##############\n",
    "        for (candi_func, lag, _) in tri_tuple_lst:\n",
    "           \n",
    "            candi_func_arrcount = train_func_arrcount[candi_func][: 1440 * valid_split_DAY]\n",
    "            \n",
    "            if np.count_nonzero(candi_func_arrcount) > 0:\n",
    "                candi_last_call = np.where(np.array(candi_func_arrcount) > 0)[0][-1] - len(candi_func_arrcount)\n",
    "                next_invok_start += [(candi_last_call, candi_last_call + lag)]\n",
    "\n",
    "                if func_class[candi_func].type in [REGULAR, APPRO_REGULAR]:\n",
    "                    next_invok_start += [(candi_last_call + 1 + p, candi_last_call + 1 + p + lag) \n",
    "                                           for p in candi_pred_value[candi_func]]\n",
    "                elif func_class[candi_func].type == DENSE:\n",
    "                    next_invok_start += [(candi_last_call + 1 + candi_pred_value[candi_func][0], \n",
    "                                            candi_last_call + 1 + candi_pred_value[candi_func][1] + lag)]\n",
    "        \n",
    "        ############## Calculate next_invok_start at time 0 ##############\n",
    "        \n",
    "        state = False\n",
    "        wait_time = 1440 * valid_split_DAY\n",
    "        \n",
    "        ############## Prewarming at time 0 ##############\n",
    "        if np.count_nonzero(train_arr) > 0:\n",
    "            last_call = np.where(np.array(train_arr) > 0)[0][-1] - len(train_arr)\n",
    "            wait_time = non_invok[-1] if train_arr[-1] == 0 else 0\n",
    "            if train_arr[-1] > 0: state = True\n",
    "        \n",
    "        for (left, right) in next_invok_start:\n",
    "            if left <= PRE_WARM and right >= -PRE_WARM:\n",
    "                state = True\n",
    "                break\n",
    "        ############## Prewarming at time 0 ##############\n",
    "        \n",
    "        for i, cur_invok in enumerate(valid_arr):\n",
    "            next_invok_start = []\n",
    "            for (candi_func, lag, _) in tri_tuple_lst:\n",
    "                if candi_last_call_dict[candi_func][i] is not None:\n",
    "                    candi_last_call = candi_last_call_dict[candi_func][i]\n",
    "                    next_invok_start += [(candi_last_call, candi_last_call + lag)]\n",
    "\n",
    "                    if func_class[candi_func].type in [REGULAR, APPRO_REGULAR]:\n",
    "                        next_invok_start += [(candi_last_call + 1 + p, candi_last_call + 1 + p + lag) \n",
    "                                               for p in candi_pred_value[candi_func]]\n",
    "\n",
    "                    elif func_class[candi_func].type == DENSE:\n",
    "                        next_invok_start += [(candi_last_call + 1 + candi_pred_value[candi_func][0], \n",
    "                                            candi_last_call + 1 + candi_pred_value[candi_func][1] + lag)]\n",
    "\n",
    "            if cur_invok > 0:\n",
    "                if not state:\n",
    "                    state = True\n",
    "                    cold_num += 1\n",
    "                wait_time = 0\n",
    "            \n",
    "            else:\n",
    "                wait_time += 1\n",
    "                pre_warm_flag = False\n",
    "                for (left, right) in next_invok_start:\n",
    "                    if left <= i + PRE_WARM and right >= i - PRE_WARM:\n",
    "                        pre_warm_flag = True\n",
    "                        break\n",
    "\n",
    "                if state:\n",
    "                    waste += 1\n",
    "                    if (not pre_warm_flag) and wait_time >= CORR_GIVEUP:\n",
    "                        state = False\n",
    "                elif pre_warm_flag:\n",
    "                    state = True\n",
    "                \n",
    "        func_valid_res[func][\"cold\"][2], func_valid_res[func][\"waste\"][2] = cold_num/invok_num, waste/used\n",
    "\n",
    "takein_corr_num"
   ]
  },
  {
   "cell_type": "markdown",
   "id": "701adfec",
   "metadata": {},
   "source": [
    "### Assignment"
   ]
  },
  {
   "cell_type": "code",
   "execution_count": 127,
   "id": "969fb23b",
   "metadata": {
    "code_folding": []
   },
   "outputs": [
    {
     "name": "stdout",
     "output_type": "stream",
     "text": [
      "33971 of the 10223, 44194 unknown functions are assigned.\n",
      "10223/13277 functions don't fit any of the three rules.\n",
      "30917 22148 7077 functions are tried to fit for the three rules.\n",
      "5159 functions are assigned smoothly.\n",
      "3862 functions are assigned with a bad grace.\n",
      "10422 functions are assigned forcibly: 844 are plused, 7809 are possible, and 1769 are CORR.\n"
     ]
    }
   ],
   "source": [
    "alpha = 0.5\n",
    "\n",
    "final_res = {}\n",
    "good_assign_num, unknown_valid_num, bad_assign_num = 0, 0, 0\n",
    "force_assign = [0] * 3\n",
    "\n",
    "\n",
    "for func, res in func_valid_res.items():\n",
    "    if min(res[\"cold\"]) < 20000:\n",
    "        \n",
    "        cold_idx, waste_idx = np.argmin(res[\"cold\"]), np.argmin(res[\"waste\"])\n",
    "\n",
    "        if cold_idx == waste_idx and res[\"cold\"][cold_idx] < 1:\n",
    "            final_res[func] = cold_idx\n",
    "            good_assign_num += 1\n",
    "\n",
    "        else:\n",
    "            if cold_idx < waste_idx and res[\"cold\"][cold_idx] == res[\"cold\"][waste_idx]: #same cold, choose the smaller waste\n",
    "                final_res[func] = waste_idx\n",
    "                good_assign_num += 1\n",
    "            elif waste_idx < cold_idx and res[\"waste\"][cold_idx] == res[\"waste\"][waste_idx]:\n",
    "                final_res[func] = cold_idx\n",
    "                good_assign_num += 1\n",
    "\n",
    "            elif res[\"cold\"][cold_idx] <= 0.1: #avoid zero division\n",
    "                final_res[func] = cold_idx\n",
    "\n",
    "            elif res[\"cold\"][cold_idx] == 1:\n",
    "                bad_assign_num += 1\n",
    "                if func in possible:\n",
    "                    final_res[func] = 1\n",
    "                else:\n",
    "                    final_res[func] = 0\n",
    "\n",
    "            else:\n",
    "                if func in possible:\n",
    "                    final_res[func] = 1\n",
    "                else:\n",
    "                    delta_cold = alpha * (res[\"cold\"][waste_idx] - res[\"cold\"][cold_idx])/res[\"cold\"][cold_idx]\n",
    "                    delta_waste = (res[\"waste\"][cold_idx] - res[\"waste\"][waste_idx])/res[\"waste\"][waste_idx]\n",
    "                    if delta_cold <= delta_waste:\n",
    "                        final_res[func] = cold_idx\n",
    "                    else:\n",
    "                        final_res[func] = waste_idx   \n",
    "\n",
    "                force_assign[final_res[func]] += 1\n",
    "    else:\n",
    "        if func in possible:\n",
    "            final_res[func] = 1\n",
    "        else:\n",
    "            unknown_valid_num += 1\n",
    "        continue\n",
    "\n",
    "for func, idx in final_res.items():\n",
    "    func_class[func].type = PLUSED+idx\n",
    "\n",
    "print(f\"{len(final_res)} of the {pie_count[0]}, {len(func_valid_res)} unknown functions are assigned.\") #len(final_res) + unknown_valid_num == pie_count[0]\n",
    "print(f\"{unknown_valid_num}/{useless_num} functions don't fit any of the three rules.\")\n",
    "print(takein_assign_num, takein_poss_num, takein_corr_num, \"functions are tried to fit for the three rules.\")\n",
    "print(f\"{good_assign_num} functions are assigned smoothly.\")\n",
    "print(f\"{bad_assign_num} functions are assigned with a bad grace.\")\n",
    "print(f\"{sum(force_assign)} functions are assigned forcibly: {force_assign[0]} are plused, {force_assign[1]} are possible, and {force_assign[2]} are CORR.\")"
   ]
  },
  {
   "cell_type": "code",
   "execution_count": 128,
   "id": "384a31e1",
   "metadata": {},
   "outputs": [
    {
     "data": {
      "text/plain": [
       "(0.75, 4.334905660377358, 12.584119496855347)"
      ]
     },
     "execution_count": 128,
     "metadata": {},
     "output_type": "execute_result"
    }
   ],
   "source": [
    "cold_ratio = [func_valid_res[func][\"cold\"][idx] for func, idx in final_res.items()]\n",
    "waste_ratio = [func_valid_res[func][\"waste\"][idx] for func, idx in final_res.items()]\n",
    "np.percentile(cold_ratio, 75), np.median(waste_ratio), np.percentile(waste_ratio, 75)"
   ]
  },
  {
   "cell_type": "markdown",
   "id": "c8396a09",
   "metadata": {},
   "source": [
    "### Record Corr candidate functions"
   ]
  },
  {
   "cell_type": "code",
   "execution_count": 129,
   "id": "25c5879b",
   "metadata": {},
   "outputs": [
    {
     "data": {
      "text/plain": [
       "94"
      ]
     },
     "execution_count": 129,
     "metadata": {},
     "output_type": "execute_result"
    }
   ],
   "source": [
    "candi_func_tuplelst = defaultdict(list)\n",
    "all_corr_candi_num = 0\n",
    "\n",
    "candi_dist = [0] * TYPE_NUM\n",
    "\n",
    "for func, tri_tuple_lst in train_candi.items():\n",
    "    if func_class[func].type == CORR:\n",
    "        func_all_corr_candi = True\n",
    "    \n",
    "        for (candi, lag, _) in tri_tuple_lst:\n",
    "            if candi not in candi_func_tuplelst:\n",
    "                candi_dist[func_class[candi].type] += 1\n",
    "                \n",
    "            candi_func_tuplelst[candi].append((func, lag))\n",
    "            if func_class[candi].type != CORR:\n",
    "                func_all_corr_candi = False\n",
    "    \n",
    "        all_corr_candi_num += func_all_corr_candi\n",
    "\n",
    "all_corr_candi_num"
   ]
  },
  {
   "cell_type": "markdown",
   "id": "5b18df67",
   "metadata": {},
   "source": [
    "## Show & Save"
   ]
  },
  {
   "cell_type": "code",
   "execution_count": 131,
   "id": "6b5c178e",
   "metadata": {},
   "outputs": [
    {
     "name": "stderr",
     "output_type": "stream",
     "text": [
      " 99%|████████████████████████████████▋| 71000/71616 [00:00<00:00, 808012.92it/s]\n"
     ]
    },
    {
     "data": {
      "text/plain": [
       "10223"
      ]
     },
     "execution_count": 131,
     "metadata": {},
     "output_type": "execute_result"
    }
   ],
   "source": [
    "pie_count = [0] * (TYPE_NUM - 1)\n",
    "before_forget_pie_count = [0] * (TYPE_NUM - 1)\n",
    "\n",
    "c = 0\n",
    "with tqdm(total=train_NUM) as pbar:\n",
    "    for func, arrcount in train_func_arrcount.items():\n",
    "        c += 1\n",
    "        if func_class[func].type > CORR:\n",
    "            func_class[func].type = 0\n",
    "            \n",
    "        pie_count[func_class[func].type] += 1\n",
    "        \n",
    "        if func_class[func].forget > 0:\n",
    "            before_forget_pie_count[0] += 1\n",
    "        else:\n",
    "            before_forget_pie_count[func_class[func].type] += 1\n",
    "        \n",
    "        if c % shown_func_num == 0:\n",
    "            pbar.update(shown_func_num)\n",
    "\n",
    "pie_count[0]"
   ]
  },
  {
   "cell_type": "code",
   "execution_count": 132,
   "id": "1837ec66",
   "metadata": {},
   "outputs": [
    {
     "data": {
      "image/png": "[encoded data removed]",
      "text/plain": [
       "<Figure size 1000x400 with 2 Axes>"
      ]
     },
     "metadata": {},
     "output_type": "display_data"
    }
   ],
   "source": [
    "label_lst = ['Unknown','Warm', 'Regular', \"Appro-regular\", \"Dense\", \"Successive\", \"Plused\", \"Possible\", \"Corr\"]\n",
    "color_lst = ['#F5B3A2','#BC90B6','#2A4597','#DDC3C7', '#6A9C79', '#C5563B',\"#F1AB3D\", '#58A0A4','#E5F1E5',\"#FBDEAF\"]\n",
    "\n",
    "\n",
    "fig, (ax1, ax2) = plt.subplots(ncols=2, figsize=(10, 4))\n",
    "plt.subplots_adjust(wspace=1, hspace =0)\n",
    "\n",
    "ax1.pie(np.array(before_forget_pie_count),\n",
    "        labels = label_lst,\n",
    "        colors = color_lst[:TYPE_NUM-1],\n",
    "        #explode = [0, 0.2, 0, 0, 0.7, 0, 0.1],\n",
    "        autopct='%.1f%%',\n",
    "        pctdistance=0.9,\n",
    "       )\n",
    "ax1.set_title('Before forgetting')\n",
    "\n",
    "ax2.pie(np.array(pie_count),\n",
    "        labels = label_lst,\n",
    "        colors = color_lst[:TYPE_NUM-1],\n",
    "        #explode = [0, 0.2, 0, 0, 0.7, 0, 0.1],\n",
    "        autopct='%.1f%%',\n",
    "        pctdistance=0.9,\n",
    "       )\n",
    "ax2.set_title('After forgetting')\n",
    "\n",
    "plt.show()"
   ]
  },
  {
   "cell_type": "markdown",
   "id": "9a856600",
   "metadata": {},
   "source": [
    "#### Save categorization"
   ]
  },
  {
   "cell_type": "code",
   "execution_count": 133,
   "id": "86e40864",
   "metadata": {},
   "outputs": [],
   "source": [
    "os.makedirs(\"mid-data\", exist_ok=True)\n",
    "with open(\"mid-data/train_info_assigned.txt\", \"w\") as wf:\n",
    "    for func, state in func_class.items():\n",
    "        wf.write(func+'\\t'+str(state.type)+'\\t'+str(state.forget)+'\\n')"
   ]
  },
  {
   "cell_type": "markdown",
   "id": "7ed6eec3",
   "metadata": {},
   "source": [
    "# Provision\n",
    "\n",
    "### Calculate basic info"
   ]
  },
  {
   "cell_type": "code",
   "execution_count": 134,
   "id": "0ceb177a",
   "metadata": {},
   "outputs": [
    {
     "name": "stderr",
     "output_type": "stream",
     "text": [
      " 99%|███████████████████████████████████▋| 71000/71616 [07:05<00:03, 166.96it/s]\n"
     ]
    },
    {
     "data": {
      "text/plain": [
       "0"
      ]
     },
     "execution_count": 134,
     "metadata": {},
     "output_type": "execute_result"
    }
   ],
   "source": [
    "additional_poss_num = 0\n",
    "\n",
    "c = 0\n",
    "with tqdm(total=train_NUM) as pbar:\n",
    "    for func in train_func_arrcount:\n",
    "        func_class[func].reset(True)\n",
    "        c += 1\n",
    "        if c % shown_func_num == 0:\n",
    "            pbar.update(shown_func_num)\n",
    "            \n",
    "        if func_class[func].type == WARM: continue\n",
    "            \n",
    "        func_class[func].pred_interval = [] #pred_value\n",
    "\n",
    "        arrcount = train_func_arrcount[func][1440*func_class[func].forget:]\n",
    "        func_class[func].last_call = np.where(np.array(arrcount)>0)[0][-1] - len(arrcount)\n",
    "        #assert func_class[func].last_call < 0\n",
    "\n",
    "        invok = conj_seq_lst(arrcount, count_invok=True)\n",
    "        non_invok = conj_seq_lst(arrcount)\n",
    "\n",
    "        func_class[func].wait_time = non_invok[-1] if arrcount[-1] == 0 else 0\n",
    "        func_class[func].pre_call_start = func_class[func].last_call - invok[-1] + 1\n",
    "\n",
    "        func_class[func].lasting_info = {\"max\": np.max(invok), \"seq_num\": len(invok)}\n",
    "        func_class[func].idle_info = {\"max\": np.max(non_invok), \"std\": np.std(non_invok), \"kind\": len(set(non_invok))}\n",
    "        \n",
    "        if func_class[func].type == REGULAR:\n",
    "            func_class[func].pred_interval = [np.median(non_invok)]\n",
    "        \n",
    "        else:\n",
    "            non_invok_unique, non_invok_counts = np.unique(non_invok, return_counts=True)\n",
    "            mode_cut = min(5, sum(np.where(non_invok_counts > 1, 1, 0)))\n",
    "            ordered_index = np.argsort(-non_invok_counts)\n",
    "            non_mode_max_index = ordered_index[: mode_cut]\n",
    "            \n",
    "            func_class[func].idle_info[\"mode\"] = non_invok_unique[non_mode_max_index].tolist() #In the order of occuring count\n",
    "            func_class[func].idle_info[\"mode_count\"] = non_invok_counts[non_mode_max_index].tolist()\n",
    "\n",
    "            if func_class[func].type == APPRO_REGULAR:\n",
    "                #func_class[func].pred_interval = non_invok_unique[ordered_index[: min(len(ordered_index), IDLE_NUM_MAX)]].tolist()\n",
    "                func_class[func].pred_interval = [non_invok_unique[idx] for idx in ordered_index[: min(len(ordered_index), IDLE_NUM_MAX)]\n",
    "                                                                        if non_invok_counts[idx] > 0.1 * sum(non_invok_counts)]\n",
    "                        \n",
    "            elif func_class[func].type == DENSE:\n",
    "                if len(non_mode_max_index) > 0:\n",
    "                    func_class[func].pred_interval = [min(func_class[func].idle_info[\"mode\"]),\n",
    "                        min(10, max(func_class[func].idle_info[\"mode\"]))]\n",
    "                else:\n",
    "                    func_class[func].pred_interval = [min(non_invok_unique), min(IDLE_NUM_MAX, max(non_invok_unique))]\n",
    "            \n",
    "            elif func_class[func].type == NEW_POSS:\n",
    "                func_class[func].type = 0\n",
    "            \n",
    "            if func_class[func].type == POSSIBLE or (func_class[func].type == UNKNOWN and len(non_mode_max_index) > 0):\n",
    "                additional_poss_num += (func_class[func].type == UNKNOWN)\n",
    "                func_class[func].type = POSSIBLE\n",
    "                if max(func_class[func].idle_info[\"mode\"]) - min(func_class[func].idle_info[\"mode\"]) <= DISCRETE_TH:\n",
    "                    func_class[func].pred_interval = [min(func_class[func].idle_info[\"mode\"]), \n",
    "                                                      max(func_class[func].idle_info[\"mode\"])]\n",
    "                    func_class[func].idle_info[\"pred_interval_discrete\"] = False\n",
    "                else: \n",
    "                    func_class[func].pred_interval = sorted(list(func_class[func].idle_info[\"mode\"]))\n",
    "                    func_class[func].idle_info[\"pred_interval_discrete\"] = True\n",
    "\n",
    "\n",
    "additional_poss_num"
   ]
  },
  {
   "cell_type": "markdown",
   "id": "d9924865",
   "metadata": {},
   "source": [
    "### Rank func & Load simulating corr & Reset\n",
    "\n",
    "#### Rank"
   ]
  },
  {
   "cell_type": "code",
   "execution_count": 135,
   "id": "591e273c",
   "metadata": {},
   "outputs": [
    {
     "data": {
      "text/plain": [
       "(72359, 72359)"
      ]
     },
     "execution_count": 135,
     "metadata": {},
     "output_type": "execute_result"
    }
   ],
   "source": [
    "func_lst, func_corr_lst = set(), set()\n",
    "\n",
    "for func in func_class:\n",
    "    if func_class[func].type == CORR:\n",
    "        func_corr_lst.add(func)\n",
    "    else:\n",
    "        func_lst.add(func)\n",
    "\n",
    "for func in test_func_arrcount:\n",
    "    if func in func_class: continue\n",
    "    func_lst.add(func)\n",
    "    func_class[func] = func_state()\n",
    "\n",
    "func_lst, func_corr_lst = list(func_lst), list(func_corr_lst)\n",
    "\n",
    "len(func_class), len(func_lst)+len(func_corr_lst)"
   ]
  },
  {
   "cell_type": "markdown",
   "id": "e6e0edbb",
   "metadata": {},
   "source": [
    "#### Load simulating corrlations"
   ]
  },
  {
   "cell_type": "code",
   "execution_count": 136,
   "id": "7bcc9907",
   "metadata": {},
   "outputs": [],
   "source": [
    "test_func_corr = defaultdict(set)\n",
    "\n",
    "for func, ownerapp in test_func_owner_app.items():\n",
    "    if func not in train_func_arrcount:\n",
    "        owner, app = ownerapp.split('\\t')\n",
    "        candi_func_set = (test_owner_func[owner] | test_app_func[app])\n",
    "        if len(candi_func_set) == 1: continue\n",
    "        \n",
    "        candi_func_set.remove(func)\n",
    "        for candi_func in candi_func_set:\n",
    "            if len(func_trigger[func] & func_trigger[candi_func]) > 0:\n",
    "                test_func_corr[func].add(candi_func)\n",
    "\n",
    "test_func_corr_perform = {func: {candi_func: 0} for candi_func in test_func_corr[func]}"
   ]
  },
  {
   "cell_type": "markdown",
   "id": "e28c0dcf",
   "metadata": {},
   "source": [
    "#### Reset"
   ]
  },
  {
   "cell_type": "code",
   "execution_count": null,
   "id": "8f7f69cd",
   "metadata": {},
   "outputs": [],
   "source": [
    "for func in test_func_arrcount:\n",
    "    if func in func_class and (func not in train_func_arrcount):\n",
    "        del func_class[func]\n",
    "    if func not in func_class:\n",
    "        func_class[func] = func_state()"
   ]
  },
  {
   "cell_type": "code",
   "execution_count": 142,
   "id": "11c2242d",
   "metadata": {},
   "outputs": [
    {
     "name": "stderr",
     "output_type": "stream",
     "text": [
      " 99%|███████████████████████████████████▋| 71000/71616 [06:50<00:03, 173.12it/s]\n"
     ]
    }
   ],
   "source": [
    "c = 0\n",
    "with tqdm(total=train_NUM) as pbar:\n",
    "    for func in train_func_arrcount:\n",
    "        func_class[func].reset(True)\n",
    "        c += 1\n",
    "        if c % shown_func_num == 0:\n",
    "            pbar.update(shown_func_num)\n",
    "            \n",
    "        if func_class[func].type == WARM: continue\n",
    "        arrcount = train_func_arrcount[func][1440*func_class[func].forget:]\n",
    "        func_class[func].last_call = np.where(np.array(arrcount)>0)[0][-1] - len(arrcount)\n",
    "        invok = conj_seq_lst(arrcount, count_invok=True)\n",
    "        non_invok = conj_seq_lst(arrcount)\n",
    "\n",
    "        func_class[func].wait_time = non_invok[-1] if arrcount[-1] == 0 else 0\n",
    "        func_class[func].pre_call_start = func_class[func].last_call - invok[-1] + 1"
   ]
  },
  {
   "cell_type": "markdown",
   "id": "5f5890ff",
   "metadata": {},
   "source": [
    "## Calculate predictive values & predictions at time 0"
   ]
  },
  {
   "cell_type": "code",
   "execution_count": 143,
   "id": "3ce15817",
   "metadata": {},
   "outputs": [],
   "source": [
    "PRE_WARM = 2\n",
    "EN_STD = 2\n",
    "\n",
    "GIVE_UP = {\n",
    "    UNKNOWN: POSS_GIVEUP,\n",
    "    WARM: 1440 * 14,\n",
    "    REGULAR: 1,\n",
    "    APPRO_REGULAR: 1,\n",
    "    DENSE: DENSE_UPPER_BOUND,\n",
    "    SUCCESSIVE: 1,\n",
    "    PLUSED: PLUSED_GIVEUP,\n",
    "    POSSIBLE: POSS_GIVEUP,\n",
    "    CORR: CORR_GIVEUP,\n",
    "    NEW_POSS: POSS_GIVEUP,\n",
    "}"
   ]
  },
  {
   "cell_type": "markdown",
   "id": "6db1c6a6",
   "metadata": {},
   "source": [
    "#### Predictive values"
   ]
  },
  {
   "cell_type": "code",
   "execution_count": 144,
   "id": "981e2d04",
   "metadata": {},
   "outputs": [],
   "source": [
    "for func in train_func_arrcount: # calculate next invok start at time 0\n",
    "    _type = func_class[func].type\n",
    "\n",
    "    if _type == REGULAR: \n",
    "        p = func_class[func].last_call + 1\n",
    "        if p < 0:\n",
    "            p += (func_class[func].pred_interval[0] + 1)\n",
    "        func_class[func].next_invok_start = [(p - min(func_class[func].idle_info[\"std\"], EN_STD), \n",
    "                                              p + min(func_class[func].idle_info[\"std\"], EN_STD))]\n",
    "\n",
    "    elif _type == APPRO_REGULAR:\n",
    "        func_class[func].next_invok_start = [(func_class[func].last_call + p + 1, func_class[func].last_call + p + 1) \n",
    "                                                 for p in func_class[func].pred_interval]\n",
    "    elif _type == DENSE: \n",
    "        func_class[func].next_invok_start = [(func_class[func].last_call+func_class[func].pred_interval[0]+1,\n",
    "                                             func_class[func].last_call+func_class[func].pred_interval[1]+1)]\n",
    "    elif _type == CORR:\n",
    "        func_class[func].next_invok_start = defaultdict(list)\n",
    "        for (candi_func, lag, _ ) in train_candi[func]:\n",
    "            func_class[func].next_invok_start[candi_func].append(\n",
    "                (func_class[candi_func].last_call, func_class[candi_func].last_call + lag)\n",
    "            )\n",
    "            if func_class[candi_func].type != CORR: #otherwise, endless loop\n",
    "                func_class[func].next_invok_start[candi_func] += [(nis[0], nis[1] + lag) for nis in func_class[candi_func].next_invok_start]\n",
    "\n",
    "    elif _type in [POSSIBLE, NEW_POSS]:\n",
    "        if func_class[func].idle_info[\"pred_interval_discrete\"]:\n",
    "            func_class[func].next_invok_start = [(func_class[func].last_call + p + 1, func_class[func].last_call + p + 1) \n",
    "                                                       for p in func_class[func].pred_interval]\n",
    "        else:\n",
    "            func_class[func].next_invok_start = [(func_class[func].last_call+func_class[func].pred_interval[0]+1,\n",
    "                                            func_class[func].last_call+func_class[func].pred_interval[1]+1)]\n",
    "    "
   ]
  },
  {
   "cell_type": "markdown",
   "id": "e249724e",
   "metadata": {},
   "source": [
    "#### Initialize memory"
   ]
  },
  {
   "cell_type": "code",
   "execution_count": 145,
   "id": "626a9e11",
   "metadata": {},
   "outputs": [],
   "source": [
    "memory = set()\n",
    "\n",
    "for func in train_func_arrcount: #Pre_warm for testing at time 0\n",
    "    _type = func_class[func].type\n",
    "    \n",
    "    if _type == WARM:\n",
    "        memory.add(func)\n",
    "        func_class[func].load(0)\n",
    "\n",
    "    elif _type in [SUCCESSIVE, CORR, POSSIBLE, NEW_POSS, UNKNOWN] and (func_class[func].last_call == -1):            \n",
    "        memory.add(func)\n",
    "        func_class[func].load(0)\n",
    "    \n",
    "    elif _type == PLUSED and (func_class[func].last_call + GIVE_UP[PLUSED] >= 0):\n",
    "        memory.add(func)\n",
    "        func_class[func].load(0)\n",
    "\n",
    "    elif _type in [REGULAR, APPRO_REGULAR, DENSE] and func_class[func].last_call == -1 \\\n",
    "        and (func_class[func].lasting_info[\"max\"] > 1 or func_class[func].lasting_info[\"seq_num\"] == 1):\n",
    "        memory.add(func)\n",
    "        func_class[func].load(0)\n",
    "\n",
    "    # Pre-warm funcs having next_invok_start\n",
    "    if _type == CORR:\n",
    "        flag = False\n",
    "        for _, tuple_lst in func_class[func].next_invok_start.items():\n",
    "            for (left, right) in tuple_lst:\n",
    "                if left <= PRE_WARM and right >= -PRE_WARM:\n",
    "                    memory.add(func)\n",
    "                    func_class[func].load(0)\n",
    "                    flag = True\n",
    "                    break\n",
    "            if flag: break\n",
    "                \n",
    "    elif _type in [REGULAR, APPRO_REGULAR, DENSE, POSSIBLE, NEW_POSS]:\n",
    "        for (left, right) in func_class[func].next_invok_start:\n",
    "            if left <= PRE_WARM and right >= -PRE_WARM:\n",
    "                memory.add(func)\n",
    "                func_class[func].load(0)\n",
    "                break"
   ]
  },
  {
   "cell_type": "markdown",
   "id": "81626ced",
   "metadata": {},
   "source": [
    "# Simulating"
   ]
  },
  {
   "cell_type": "code",
   "execution_count": 146,
   "id": "7b92b3bd",
   "metadata": {},
   "outputs": [],
   "source": [
    "CORR_REMOVAL_TH = 2\n",
    "\n",
    "import bisect\n",
    "import random\n",
    "\n",
    "SHIFT = True #adaptive strategies\n",
    "func_cold = {func: 0 for func in test_func_arrcount}\n",
    "func_invok = {func: 0 for func in test_func_arrcount}\n",
    "\n",
    "func_invok_bool = {func: 0 for func in test_func_arrcount}\n",
    "func_waste = {func: 0 for func in test_func_arrcount}\n",
    "\n",
    "waste_mem_time = 0\n",
    "\n",
    "memory_size = []"
   ]
  },
  {
   "cell_type": "code",
   "execution_count": 147,
   "id": "804c4dbc",
   "metadata": {},
   "outputs": [
    {
     "name": "stderr",
     "output_type": "stream",
     "text": [
      "100%|███████████████████████████████████████| 2880/2880 [15:37<00:00,  3.07it/s]"
     ]
    },
    {
     "name": "stdout",
     "output_type": "stream",
     "text": [
      "WMT: 21521200 7472.638888888889\n",
      "Memory Usage 13982.138194444444 14167.5\n"
     ]
    },
    {
     "name": "stderr",
     "output_type": "stream",
     "text": [
      "\n"
     ]
    },
    {
     "data": {
      "text/plain": [
       "(0.0, 0.10810810810810811, 0.6666666666666666)"
      ]
     },
     "execution_count": 147,
     "metadata": {},
     "output_type": "execute_result"
    }
   ],
   "source": [
    "with tqdm(total=1440 * 2) as pbar:\n",
    "    for i in range(1440 * 2):\n",
    "        if (i+1) % 40 == 0:  pbar.update(40)\n",
    "        \n",
    "        random.shuffle(func_corr_lst)\n",
    "        for func in (func_lst + func_corr_lst): #In case of some functions staying in the memory forever\n",
    "            _type = func_class[func].type\n",
    "            \n",
    "            if func in test_func_arrcount and test_func_arrcount[func][i] > 0: #invok\n",
    "                func_invok[func] += test_func_arrcount[func][i]\n",
    "                func_invok_bool[func] += 1\n",
    "                \n",
    "                if not func_class[func].state: #cold start\n",
    "                    func_cold[func] += 1\n",
    "                    func_class[func].load(i)\n",
    "                    memory.add(func)\n",
    "                \n",
    "                if func_class[func].wait_time is None or func_class[func].wait_time > 0: #A new invocation seq begins currently\n",
    "                    func_class[func].pre_call_start = i\n",
    "                    func_class[func].adp_wait.append(func_class[func].wait_time)\n",
    "                    \n",
    "                    ## Shift: Update predictive values\n",
    "                    if SHIFT and (_type in [REGULAR, DENSE, POSSIBLE, NEW_POSS, UNKNOWN]) and len(func_class[func].adp_wait) >= 5: # Adaptively Updating\n",
    "                        if _type == REGULAR:\n",
    "                            if abs(np.median(func_class[func].adp_wait) - func_class[func].pred_interval[0]) > max(1, func_class[func].idle_info[\"std\"]):\n",
    "                                func_class[func].pred_interval[0] = (func_class[func].pred_interval[0]+np.median(func_class[func].adp_wait))/2\n",
    "                                \n",
    "                        elif _type == DENSE:\n",
    "                            if abs(min(func_class[func].adp_wait) - func_class[func].pred_interval[0]) > 1:\n",
    "                                func_class[func].pred_interval[0] = min(func_class[func].adp_wait)\n",
    "                            if (abs(max(func_class[func].adp_wait) - func_class[func].pred_interval[1]) > 1) \\\n",
    "                                and max(func_class[func].adp_wait) <= DENSE_UPPER_BOUND:\n",
    "                                func_class[func].pred_interval[1] = max(func_class[func].adp_wait)\n",
    "                        \n",
    "                        elif _type in [POSSIBLE, NEW_POSS]:\n",
    "                            idle_unique, idle_counts = np.unique(func_class[func].adp_wait, return_counts=True)\n",
    "                            if max(idle_counts) >= max(2, func_class[func].idle_info[\"mode_count\"][-1]):\n",
    "                                idle_max_index = np.argsort(-idle_counts)\n",
    "                                for idx in idle_max_index:\n",
    "                                    if idle_unique[idx] in func_class[func].idle_info[\"mode\"]: continue\n",
    "                                    pos = len(func_class[func].idle_info[\"mode_count\"]) - \\\n",
    "                                            bisect.bisect(func_class[func].idle_info[\"mode_count\"][::-1], idle_counts[idx])\n",
    "                                    if pos >= len(func_class[func].idle_info[\"mode_count\"]): continue\n",
    "                                        \n",
    "                                    if idle_counts[idx] > func_class[func].idle_info[\"mode_count\"][pos]:\n",
    "                                        func_class[func].idle_info[\"mode_count\"][pos] = idle_counts[idx]\n",
    "                                        func_class[func].idle_info[\"mode\"][pos] = idle_unique[idx]\n",
    "                                    elif idle_counts[idx] == func_class[func].idle_info[\"mode_count\"][pos]:\n",
    "                                        func_class[func].idle_info[\"mode_count\"].insert(pos, idle_counts[idx])\n",
    "                                        func_class[func].idle_info[\"mode\"].insert(pos, idle_unique[idx])\n",
    "\n",
    "                                \n",
    "                                if max(func_class[func].idle_info[\"mode\"]) - min(func_class[func].idle_info[\"mode\"]) <= DISCRETE_TH:\n",
    "                                    func_class[func].pred_interval = [min(func_class[func].idle_info[\"mode\"]), \n",
    "                                                      max(func_class[func].idle_info[\"mode\"])]\n",
    "                                    func_class[func].idle_info[\"pred_interval_discrete\"] = False\n",
    "                                else: \n",
    "                                    func_class[func].pred_interval = sorted(list(func_class[func].idle_info[\"mode\"]))\n",
    "                                    func_class[func].idle_info[\"pred_interval_discrete\"] = True\n",
    "                                \n",
    "                        elif _type == UNKNOWN:\n",
    "                            idle_unique, idle_counts = np.unique(func_class[func].adp_wait, return_counts=True)\n",
    "                            idxs = np.argsort(-idle_counts)[: min(5, sum(np.where(idle_counts > 1, 1, 0)))]\n",
    "                            mode_lst = idle_unique[idxs]\n",
    "                            if len(mode_lst) > 0:\n",
    "                                func_class[func].type = NEW_POSS\n",
    "                                func_class[func].idle_info[\"mode\"] = mode_lst.tolist()\n",
    "                                func_class[func].idle_info[\"mode_count\"] = idle_counts[idxs].tolist()\n",
    "                                \n",
    "                                if max(mode_lst) - min(mode_lst) <= DISCRETE_TH:\n",
    "                                    func_class[func].idle_info[\"pred_interval_discrete\"] = False\n",
    "                                    func_class[func].pred_interval = [min(mode_lst), max(mode_lst)]\n",
    "                                else:\n",
    "                                    func_class[func].idle_info[\"pred_interval_discrete\"] = True\n",
    "                                    func_class[func].pred_interval = sorted(list(mode_lst))\n",
    "                                \n",
    "                func_class[func].wait_time = 0\n",
    "                func_class[func].last_call = i\n",
    "                \n",
    "                #Update prediction for UNI, LIMITIDLE, DENSE, DIVI\n",
    "                if _type == REGULAR:\n",
    "                    func_class[func].next_invok_start = [(i + 1 + func_class[func].pred_interval[0] - min(func_class[func].idle_info[\"std\"], EN_STD),\n",
    "                                                          i + 1 + func_class[func].pred_interval[0] + min(func_class[func].idle_info[\"std\"], EN_STD))]\n",
    "                        \n",
    "                elif _type == APPRO_REGULAR or (_type in [POSSIBLE, NEW_POSS] and func_class[func].idle_info[\"pred_interval_discrete\"]):\n",
    "                    func_class[func].next_invok_start = [(i + p + 1, i + p + 1) for p in func_class[func].pred_interval]\n",
    "                \n",
    "                elif _type == DENSE or (_type in [POSSIBLE, NEW_POSS] and (not func_class[func].idle_info[\"pred_interval_discrete\"])):\n",
    "                    func_class[func].next_invok_start = [(i + func_class[func].pred_interval[0] + 1, i + func_class[func].pred_interval[1] + 1)]\n",
    "                \n",
    "                #The occurrences of candidate functions can be predictive indicators.\n",
    "\n",
    "                if func in candi_func_tuplelst: \n",
    "                    for (target_func, lag) in candi_func_tuplelst[func]: #func is candi, target is target\n",
    "                        func_class[target_func].next_invok_start[func] = [(i, i + lag)]\n",
    "                        if _type in [REGULAR, APPRO_REGULAR, DENSE, POSSIBLE, NEW_POSS]:\n",
    "                            func_class[target_func].next_invok_start[func] += [(l, r + lag) \n",
    "                                                                             for (l, r) in func_class[func].next_invok_start]\n",
    "                if func in test_func_corr:\n",
    "                    for target_func in test_func_corr[func]:\n",
    "                        if func_class[target_func].type == CORR:\n",
    "                            func_class[target_func].next_invok_start[func] += [(i, i + 1)]\n",
    "                            func_class[target_func].next_invok_start[func] = list(set(func_class[target_func].next_invok_start[func]))\n",
    "                        else:\n",
    "                            #assert not isinstance(func_class[post_func].next_invok_start, dict), post_func\n",
    "                            func_class[target_func].next_invok_start += [(i, i + 1)]\n",
    "                            func_class[target_func].next_invok_start = list(set(func_class[target_func].next_invok_start))\n",
    "                        \n",
    "            else: # not invok\n",
    "                #func_class[func].cal_idle()\n",
    "                if func_class[func].wait_time is None:\n",
    "                    func_class[func].wait_time = 1\n",
    "                else:\n",
    "                    func_class[func].wait_time += 1\n",
    "                    \n",
    "                if func in memory:\n",
    "                    waste_mem_time += 1\n",
    "                    if func in func_waste:\n",
    "                        func_waste[func] += 1\n",
    "                \n",
    "                # Prewarm according to different types\n",
    "                pre_warm_flag = False\n",
    "                \n",
    "                if _type == REGULAR:\n",
    "                    (p_small, p_large) = func_class[func].next_invok_start[0]\n",
    "                    p_small += (func_class[func].pred_interval[0] + 1) * int(p_large <= i) #allow for one missing hit\n",
    "                    func_class[func].next_invok_start[0] = (p_small, p_small + 2 * min(func_class[func].idle_info[\"std\"], EN_STD))\n",
    "\n",
    "                if _type in [REGULAR, APPRO_REGULAR, DENSE, POSSIBLE, NEW_POSS, UNKNOWN]:\n",
    "                    for (left, right) in func_class[func].next_invok_start:\n",
    "                        if left <= i + PRE_WARM and right >= i - PRE_WARM:\n",
    "                            pre_warm_flag = True\n",
    "                            break\n",
    "\n",
    "                elif _type == CORR:\n",
    "                    for tuple_lst in func_class[func].next_invok_start.values():\n",
    "                        for (left, right) in tuple_lst:\n",
    "                            if left <= i + PRE_WARM and right >= i - PRE_WARM:\n",
    "                                pre_warm_flag = True\n",
    "                                break\n",
    "                        if pre_warm_flag: break\n",
    "                \n",
    "                if func_class[func].state and (not pre_warm_flag) and func_class[func].wait_time >= GIVE_UP[_type]: #Remove\n",
    "                    memory.remove(func)\n",
    "                    func_class[func].unload()\n",
    "                \n",
    "                elif pre_warm_flag:\n",
    "                    memory.add(func)\n",
    "                    func_class[func].load(i)\n",
    "\n",
    "        memory_size.append(len(memory))\n",
    "        \n",
    "        ## Update test_corr\n",
    "        for func, perform_dict in test_func_corr_perform:\n",
    "            for candi in perform_dict:\n",
    "                test_func_corr_perform[func][candi] += int(bool(test_func_arrcount[func][i]) & bool(test_func_arrcount[candi][i]))\n",
    "        \n",
    "        for func, perform_dict in test_func_corr_perform.items():\n",
    "            best_perform = max(perform_dict.values())\n",
    "            del_lst = []\n",
    "            for candi, perform in perform_dict:\n",
    "                if best_perform - perform >= CORR_REMOVAL_TH:\n",
    "                    del_lst.append(candi)\n",
    "            for candi in del_lst:\n",
    "                del test_func_corr[func][candi]\n",
    "                del test_func_corr_perform[func][candi]\n",
    "        \n",
    "cold_ratio = [cold/func_invok[func] for func, cold in func_cold.items()]\n",
    "print(\"WMT:\", waste_mem_time, waste_mem_time/2880)\n",
    "print(\"Memory Usage\", np.mean(memory_size), np.median(memory_size))\n",
    "np.percentile(cold_ratio, 50), np.percentile(cold_ratio, 75), np.percentile(cold_ratio, 90)"
   ]
  },
  {
   "cell_type": "markdown",
   "id": "d4e73e61",
   "metadata": {},
   "source": [
    "# Result Save & Analysis"
   ]
  },
  {
   "cell_type": "code",
   "execution_count": 148,
   "id": "c7cb79d6",
   "metadata": {},
   "outputs": [],
   "source": [
    "import json\n",
    "\n",
    "def read_json(filepath):\n",
    "    if os.path.exists(filepath):\n",
    "        assert filepath.endswith('.json')\n",
    "        with open(filepath, 'r') as f:\n",
    "            return json.loads(f.read())\n",
    "    else: \n",
    "        print(\"File path \"+filepath+\" not exists!\")\n",
    "        return\n",
    "    \n",
    "def json_pretty_dump(obj, filename):\n",
    "    with open(filename, \"w\") as fw:\n",
    "        json.dump(obj,fw, sort_keys=True, indent=4, separators=(\",\", \": \"), ensure_ascii=False)"
   ]
  },
  {
   "cell_type": "code",
   "execution_count": 149,
   "id": "ec99d4d4",
   "metadata": {},
   "outputs": [],
   "source": [
    "import time\n",
    "os.makedirs(\"../result\", exist_ok=True)\n",
    "\n",
    "cur_time = time.strftime(\"%d-%H-%M\", time.localtime())\n",
    "\n",
    "json_pretty_dump(func_cold, f\"../result/func_cold_{cur_time}.json\")\n",
    "json_pretty_dump(func_waste, f\"../result/func_waste_{cur_time}.json\")\n",
    "json_pretty_dump(func_invok, f\"../result/func_invok_{cur_time}.json\")\n",
    "json_pretty_dump(memory_size, f\"../result/memory_size_{cur_time}.json\")"
   ]
  },
  {
   "cell_type": "markdown",
   "id": "20cc3288",
   "metadata": {},
   "source": [
    "## Anlysis\n",
    "\n",
    "#### Cold start of each type"
   ]
  },
  {
   "cell_type": "code",
   "execution_count": 150,
   "id": "29c06be5",
   "metadata": {},
   "outputs": [],
   "source": [
    "aim = np.percentile(cold_ratio, 75)\n",
    "label_lst = ['Unknown','Warm', 'Regular', \"Appro-regular\", \"Dense\", \"Successive\", \"Plused\", \"Possible\", \"Corr\", \"New_poss\"]\n",
    "\n",
    "cold_num_per_type = [0] * TYPE_NUM\n",
    "invok_num_per_type = [0] * TYPE_NUM\n",
    "cold_ratio_per_type_lst = [[] for _ in range(TYPE_NUM)]\n",
    "\n",
    "for func, cold in func_cold.items():\n",
    "    cold_num_per_type[func_class[func].type] += cold\n",
    "    invok_num_per_type[func_class[func].type] += func_invok[func]\n",
    "    cold_ratio_per_type_lst[func_class[func].type].append(cold / func_invok[func])\n",
    "\n",
    "cold_ratio_exceed_num, cold_ratio_exceed_rate, cold_ratio75 =[0]*TYPE_NUM, [0]*TYPE_NUM, [0]*TYPE_NUM\n",
    "\n",
    "for i, lst in enumerate(cold_ratio_per_type_lst):\n",
    "    if len(lst) > 0:\n",
    "        cold_ratio_exceed_num[i] = sum(np.where(np.array(lst)>=aim, 1, 0))\n",
    "        cold_ratio_exceed_rate[i] = sum(np.where(np.array(lst)>=aim, 1, 0))/len(lst)\n",
    "        cold_ratio75[i] = np.percentile(lst, 75)\n",
    "    else:\n",
    "        print(f\"Empty Type {i}!\")"
   ]
  },
  {
   "cell_type": "code",
   "execution_count": null,
   "id": "0ca8b81c",
   "metadata": {},
   "outputs": [],
   "source": [
    "fig, (ax1, ax2, ax3, ax4) = plt.subplots(nrows=4, figsize=(10, 12))\n",
    "plt.subplots_adjust(wspace=0, hspace=0.3)\n",
    "\n",
    "ax1.bar(range(TYPE_NUM), \n",
    "        cold_num_per_type, \n",
    "        color=color_lst[:TYPE_NUM], \n",
    "        tick_label=label_lst\n",
    "        )\n",
    "ax1.set_title('Cold Start Num')\n",
    "\n",
    "ax2.bar(range(TYPE_NUM), \n",
    "        invok_num_per_type, \n",
    "        color=color_lst[: TYPE_NUM], \n",
    "        tick_label=label_lst\n",
    "        )\n",
    "ax2.set_title('Invocation Num')\n",
    "\n",
    "ax3.bar(range( TYPE_NUM), \n",
    "        cold_ratio_exceed_num, \n",
    "        color=color_lst[: TYPE_NUM],  \n",
    "        tick_label=label_lst\n",
    "        )\n",
    "ax3.set_title('Cold Start Exceed Num')\n",
    "\n",
    "ax4.bar(range( TYPE_NUM), \n",
    "        cold_ratio_exceed_rate, \n",
    "        color=color_lst[: TYPE_NUM],  \n",
    "        tick_label=label_lst\n",
    "        )\n",
    "ax4.set_title('Cold Start Exceed Ratio')\n",
    "\n",
    "\n",
    "plt.show()"
   ]
  },
  {
   "cell_type": "code",
   "execution_count": null,
   "id": "082dd515",
   "metadata": {},
   "outputs": [],
   "source": []
  }
 ],
 "metadata": {
  "kernelspec": {
   "display_name": "Python 3 (ipykernel)",
   "language": "python",
   "name": "python3"
  },
  "language_info": {
   "codemirror_mode": {
    "name": "ipython",
    "version": 3
   },
   "file_extension": ".py",
   "mimetype": "text/x-python",
   "name": "python",
   "nbconvert_exporter": "python",
   "pygments_lexer": "ipython3",
   "version": "3.9.13"
  }
 },
 "nbformat": 4,
 "nbformat_minor": 5
}
